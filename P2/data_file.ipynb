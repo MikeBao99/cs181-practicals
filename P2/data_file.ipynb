{
 "cells": [
  {
   "cell_type": "code",
   "execution_count": 12,
   "metadata": {},
   "outputs": [
    {
     "name": "stdout",
     "output_type": "stream",
     "text": [
      "extracting training features...\n",
      "done extracting training features\n",
      "\n",
      "13258\n"
     ]
    }
   ],
   "source": [
    "## This file provides starter code for extracting features from the xml files and\n",
    "## for doing some learning.\n",
    "##\n",
    "## The basic set-up:\n",
    "## ----------------\n",
    "## main() will run code to extract features, learn, and make predictions.\n",
    "##\n",
    "## extract_feats() is called by main(), and it will iterate through the\n",
    "## train/test directories and parse each xml file into an xml.etree.ElementTree,\n",
    "## which is a standard python object used to represent an xml file in memory.\n",
    "## (More information about xml.etree.ElementTree objects can be found here:\n",
    "## http://docs.python.org/2/library/xml.etree.elementtree.html\n",
    "## and here: http://eli.thegreenplace.net/2012/03/15/processing-xml-in-python-with-elementtree/)\n",
    "## It will then use a series of \"feature-functions\" that you will write/modify\n",
    "## in order to extract dictionaries of features from each ElementTree object.\n",
    "## Finally, it will produce an N x D sparse design matrix containing the union\n",
    "## of the features contained in the dictionaries produced by your \"feature-functions.\"\n",
    "## This matrix can then be plugged into your learning algorithm.\n",
    "##\n",
    "## The learning and prediction parts of main() are largely left to you, though\n",
    "## it does contain code that randomly picks class-specific weights and predicts\n",
    "## the class with the weights that give the highest score. If your prediction\n",
    "## algorithm involves class-specific weights, you should, of course, learn\n",
    "## these class-specific weights in a more intelligent way.\n",
    "##\n",
    "## Feature-functions:\n",
    "## --------------------\n",
    "## \"feature-functions\" are functions that take an ElementTree object representing\n",
    "## an xml file (which contains, among other things, the sequence of system calls a\n",
    "## piece of potential malware has made), and returns a dictionary mapping feature names to\n",
    "## their respective numeric values.\n",
    "## For instance, a simple feature-function might map a system call history to the\n",
    "## dictionary {'first_call-load_image': 1}. This is a boolean feature indicating\n",
    "## whether the first system call made by the executable was 'load_image'.\n",
    "## Real-valued or count-based features can of course also be defined in this way.\n",
    "## Because this feature-function will be run over ElementTree objects for each\n",
    "## software execution history instance, we will have the (different)\n",
    "## feature values of this feature for each history, and these values will make up\n",
    "## one of the columns in our final design matrix.\n",
    "## Of course, multiple features can be defined within a single dictionary, and in\n",
    "## the end all the dictionaries returned by feature functions (for a particular\n",
    "## training example) will be unioned, so we can collect all the feature values\n",
    "## associated with that particular instance.\n",
    "##\n",
    "## Two example feature-functions, first_last_system_call_feats() and\n",
    "## system_call_count_feats(), are defined below.\n",
    "## The first of these functions indicates what the first and last system-calls\n",
    "## made by an executable are, and the second records the total number of system\n",
    "## calls made by an executable.\n",
    "##\n",
    "## What you need to do:\n",
    "## --------------------\n",
    "## 1. Write new feature-functions (or modify the example feature-functions) to\n",
    "## extract useful features for this prediction task.\n",
    "## 2. Implement an algorithm to learn from the design matrix produced, and to\n",
    "## make predictions on unseen data. Naive code for these two steps is provided\n",
    "## below, and marked by TODOs.\n",
    "##\n",
    "## Computational Caveat\n",
    "## --------------------\n",
    "## Because the biggest of any of the xml files is only around 35MB, the code below\n",
    "## will parse an entire xml file and store it in memory, compute features, and\n",
    "## then get rid of it before parsing the next one. Storing the biggest of the files\n",
    "## in memory should require at most 200MB or so, which should be no problem for\n",
    "## reasonably modern laptops. If this is too much, however, you can lower the\n",
    "## memory requirement by using ElementTree.iterparse(), which does parsing in\n",
    "## a streaming way. See http://eli.thegreenplace.net/2012/03/15/processing-xml-in-python-with-elementtree/\n",
    "## for an example.\n",
    "\n",
    "import os\n",
    "from collections import Counter\n",
    "try:\n",
    "    import xml.etree.cElementTree as ET\n",
    "except ImportError:\n",
    "    import xml.etree.ElementTree as ET\n",
    "import numpy as np\n",
    "from sklearn.ensemble import AdaBoostClassifier\n",
    "from scipy import sparse\n",
    "from sklearn.linear_model import LogisticRegression\n",
    "from sklearn.neural_network import MLPClassifier\n",
    "from sklearn.svm import LinearSVC\n",
    "from sklearn.decomposition import TruncatedSVD as PCA\n",
    "from sklearn.model_selection import train_test_split\n",
    "from sklearn.gaussian_process import GaussianProcessClassifier\n",
    "from sklearn.naive_bayes import GaussianNB\n",
    "from sklearn.ensemble import RandomForestClassifier\n",
    "from sklearn.metrics import accuracy_score\n",
    "\n",
    "\n",
    "import pickle\n",
    "\n",
    "from sklearn.gaussian_process.kernels import RBF\n",
    "import util\n",
    "\n",
    "\n",
    "def extract_feats(ffs, direc=\"train\", global_feat_dict=None):\n",
    "    \"\"\"\n",
    "    arguments:\n",
    "      ffs are a list of feature-functions.\n",
    "      direc is a directory containing xml files (expected to be train or test).\n",
    "      global_feat_dict is a dictionary mapping feature_names to column-numbers; it\n",
    "      should only be provided when extracting features from test data, so that\n",
    "      the columns of the test matrix align correctly.\n",
    "\n",
    "    returns:\n",
    "      a sparse design matrix, a dict mapping features to column-numbers,\n",
    "      a vector of target classes, and a list of system-call-history ids in order\n",
    "      of their rows in the design matrix.\n",
    "\n",
    "      Note: the vector of target classes returned will contain the true indices of the\n",
    "      target classes on the training data, but will contain only -1's on the test\n",
    "      data\n",
    "    \"\"\"\n",
    "    fds = [] # list of feature dicts\n",
    "    classes = []\n",
    "    ids = []\n",
    "    for datafile in os.listdir(direc):\n",
    "        # extract id and true class (if available) from filename\n",
    "        id_str,clazz = datafile.split('.')[:2]\n",
    "        ids.append(id_str)\n",
    "        # add target class if this is training data\n",
    "        try:\n",
    "            classes.append(util.malware_classes.index(clazz))\n",
    "        except ValueError:\n",
    "            # we should only fail to find the label in our list of malware classes\n",
    "            # if this is test data, which always has an \"X\" label\n",
    "            assert clazz == \"X\"\n",
    "            classes.append(-1)\n",
    "        rowfd = {}\n",
    "        # parse file as an xml document\n",
    "        tree = ET.parse(os.path.join(direc,datafile))\n",
    "        # accumulate features\n",
    "        [rowfd.update(ff(tree)) for ff in ffs]\n",
    "        fds.append(rowfd)\n",
    "\n",
    "    X,feat_dict = make_design_mat(fds,global_feat_dict)\n",
    "    return X, feat_dict, np.array(classes), ids\n",
    "\n",
    "\n",
    "def make_design_mat(fds, global_feat_dict=None):\n",
    "    \"\"\"\n",
    "    arguments:\n",
    "      fds is a list of feature dicts (one for each row).\n",
    "      global_feat_dict is a dictionary mapping feature_names to column-numbers; it\n",
    "      should only be provided when extracting features from test data, so that\n",
    "      the columns of the test matrix align correctly.\n",
    "\n",
    "    returns:\n",
    "        a sparse NxD design matrix, where N == len(fds) and D is the number of\n",
    "        the union of features defined in any of the fds\n",
    "    \"\"\"\n",
    "    if global_feat_dict is None:\n",
    "        all_feats = set()\n",
    "        [all_feats.update(fd.keys()) for fd in fds]\n",
    "        feat_dict = dict([(feat, i) for i, feat in enumerate(sorted(all_feats))])\n",
    "    else:\n",
    "        feat_dict = global_feat_dict\n",
    "\n",
    "    cols = []\n",
    "    rows = []\n",
    "    data = []\n",
    "    for i in range(len(fds)):\n",
    "        temp_cols = []\n",
    "        temp_data = []\n",
    "        for feat,val in fds[i].iteritems():\n",
    "            try:\n",
    "                # update temp_cols iff update temp_data\n",
    "                temp_cols.append(feat_dict[feat])\n",
    "                temp_data.append(val)\n",
    "            except KeyError as ex:\n",
    "                if global_feat_dict is not None:\n",
    "                    pass  # new feature in test data; nbd\n",
    "                else:\n",
    "                    raise ex\n",
    "\n",
    "        # all fd's features in the same row\n",
    "        k = len(temp_cols)\n",
    "        cols.extend(temp_cols)\n",
    "        data.extend(temp_data)\n",
    "        rows.extend([i]*k)\n",
    "\n",
    "    assert len(cols) == len(rows) and len(rows) == len(data)\n",
    "\n",
    "\n",
    "    X = sparse.csr_matrix((np.array(data),\n",
    "                   (np.array(rows), np.array(cols))),\n",
    "                   shape=(len(fds), len(feat_dict)))\n",
    "    return X, feat_dict\n",
    "\n",
    "\n",
    "## Here are two example feature-functions. They each take an xml.etree.ElementTree object,\n",
    "# (i.e., the result of parsing an xml file) and returns a dictionary mapping\n",
    "# feature-names to numeric values.\n",
    "## TODO: modify these functions, and/or add new ones.\n",
    "def first_last_system_call_feats(tree):\n",
    "    \"\"\"\n",
    "    arguments:\n",
    "      tree is an xml.etree.ElementTree object\n",
    "    returns:\n",
    "      a dictionary mapping 'first_call-x' to 1 if x was the first system call\n",
    "      made, and 'last_call-y' to 1 if y was the last system call made.\n",
    "      (in other words, it returns a dictionary indicating what the first and\n",
    "      last system calls made by an executable were.)\n",
    "    \"\"\"\n",
    "    c = Counter()\n",
    "    in_all_section = False\n",
    "    first = True # is this the first system call\n",
    "    last_call = None # keep track of last call we've seen\n",
    "    for el in tree.iter():\n",
    "        # ignore everything outside the \"all_section\" element\n",
    "        if el.tag == \"all_section\" and not in_all_section:\n",
    "            in_all_section = True\n",
    "        elif el.tag == \"all_section\" and in_all_section:\n",
    "            in_all_section = False\n",
    "        elif in_all_section:\n",
    "            if first:\n",
    "                c[\"first_call-\"+el.tag] = 1\n",
    "                first = False\n",
    "            last_call = el.tag  # update last call seen\n",
    "\n",
    "    # finally, mark last call seen\n",
    "    c[\"last_call-\"+last_call] = 1\n",
    "    return c\n",
    "\n",
    "def system_call_count_feats(tree):\n",
    "    \"\"\"\n",
    "    arguments:\n",
    "      tree is an xml.etree.ElementTree object\n",
    "    returns:\n",
    "      a dictionary mapping 'num_system_calls' to the number of system_calls\n",
    "      made by an executable (summed over all processes)\n",
    "    \"\"\"\n",
    "    c = Counter()\n",
    "    in_all_section = False\n",
    "    for el in tree.iter():\n",
    "        # ignore everything outside the \"all_section\" element\n",
    "        if el.tag == \"all_section\" and not in_all_section:\n",
    "            in_all_section = True\n",
    "        elif el.tag == \"all_section\" and in_all_section:\n",
    "            in_all_section = False\n",
    "        elif in_all_section:\n",
    "            c['num_system_calls'] += 1\n",
    "    return c\n",
    "\n",
    "## Add Our Custom Functions Below\n",
    "\n",
    "def system_call_termination_reason(tree):\n",
    "    c = Counter()\n",
    "    for el in tree.iter():\n",
    "        # ignore everything outside the \"all_section\" element\n",
    "        if el.tag == \"process\":\n",
    "            c[\"termination_reason-\"+el.attrib['terminationreason']] = 1\n",
    "            c[\"executionstatus-\"+el.attrib['executionstatus']] = 1\n",
    "    return c\n",
    "\n",
    "def system_call_count_feat_types(tree):\n",
    "    c = Counter()\n",
    "    in_all_section = False\n",
    "    for el in tree.iter():\n",
    "        # ignore everything outside the \"all_section\" element\n",
    "        c['system_call-'+el.tag] += 1\n",
    "    return c\n",
    "\n",
    "def system_call_bigrams(tree):\n",
    "    c = Counter()\n",
    "    in_all_section = False\n",
    "    prev = \"\"\n",
    "    for el in tree.iter():\n",
    "        # ignore everything outside the \"all_section\" element\n",
    "        if el.tag == \"all_section\" and not in_all_section:\n",
    "            in_all_section = True\n",
    "        elif el.tag == \"all_section\" and in_all_section:\n",
    "            in_all_section = False\n",
    "        elif in_all_section:\n",
    "            c['system_call_bigram-'+el.tag+prev] += 1\n",
    "            prev = el.tag\n",
    "    return c\n",
    "\n",
    "def system_call_trigrams(tree):\n",
    "    c = Counter()\n",
    "    in_all_section = False\n",
    "    prev = \"\"\n",
    "    pre = \"\"\n",
    "    for el in tree.iter():\n",
    "        # ignore everything outside the \"all_section\" element\n",
    "        if el.tag == \"all_section\" and not in_all_section:\n",
    "            in_all_section = True\n",
    "        elif el.tag == \"all_section\" and in_all_section:\n",
    "            in_all_section = False\n",
    "        elif in_all_section:\n",
    "            c['system_call_bigram-'+pre+prev+el.tag] += 1\n",
    "            pre = prev\n",
    "            prev = el.tag\n",
    "    return c\n",
    "\n",
    "def system_call_processes(tree):\n",
    "    c = Counter()\n",
    "    for el in tree.iter():\n",
    "        if el.tag == \"process\":\n",
    "            if \"startreason\" in el.attrib and \"terminationreason\" in el.attrib:\n",
    "                c['system_call_processes_startreason-'+el.attrib['startreason']] += 1\n",
    "                c['system_call_processes_terminationreason-'+el.attrib['terminationreason']] += 1\n",
    "    return c\n",
    "\n",
    "def system_call_unsuccessful(tree):\n",
    "    c = Counter()\n",
    "    for el in tree.iter():\n",
    "        if \"successful\" in el.attrib and el.attrib['successful'] == \"0\":\n",
    "            c['system_call_unsuccessful-'+el.tag] += 1\n",
    "    return c\n",
    "\n",
    "\n",
    "priors = [3.69, 1.62, 1.20, 1.03, 1.33, 1.26, 1.72, 1.33, 52.15, 0.68, 17.56, 1.04, 12.18, 1.91, 1.30]\n",
    "\n",
    "## The following function does the feature extraction, learning, and prediction\n",
    "\n",
    "train_dir = \"train\"\n",
    "test_dir = \"test\"\n",
    "outputfile = \"predictions3062019.csv\"  # feel free to change this or take it as an argument\n",
    "\n",
    "# TODO put the names of the feature functions you've defined above in this list\n",
    "# ffs = [system_call_termination_reason, system_call_bigrams, system_call_trigrams]\n",
    "ffs = [first_last_system_call_feats, system_call_count_feats, system_call_termination_reason, system_call_count_feat_types, system_call_processes, system_call_unsuccessful, system_call_bigrams, system_call_trigrams]\n",
    "# ffs = [system_call_termination_reason]\n",
    "# extract features\n",
    "\n",
    "\n",
    "\n",
    "print(\"extracting training features...\")\n",
    "X_train,global_feat_dict,t_train,train_ids = extract_feats(ffs, train_dir)\n",
    "# print \"\\n\\n\\n\"\n",
    "# print len(global_feat_dict)\n",
    "print(\"done extracting training features\")\n",
    "print\n",
    "X_train, X_test, t_train, t_test = train_test_split(X_train, t_train, random_state = 1)\n",
    "# pickle.dump( (X_train, X_test, t_train, t_test, global_feat_dict,t_train,train_ids), open( \"save.p\", \"wb\" ) )\n",
    "print(len(global_feat_dict))\n",
    "\n",
    "# TO\n"
   ]
  },
  {
   "cell_type": "code",
   "execution_count": 27,
   "metadata": {},
   "outputs": [
    {
     "name": "stdout",
     "output_type": "stream",
     "text": [
      "learning...\n",
      "(2314, 13096)\n",
      "done with n_classifiers = 1, score = 0.678756\n",
      "done with n_classifiers = 2, score = 0.777202\n",
      "done with n_classifiers = 3, score = 0.788860\n",
      "done with n_classifiers = 4, score = 0.809585\n",
      "done with n_classifiers = 5, score = 0.821244\n",
      "done with n_classifiers = 6, score = 0.844560\n"
     ]
    },
    {
     "data": {
      "text/plain": [
       "<matplotlib.legend.Legend at 0x1a20fbcd90>"
      ]
     },
     "execution_count": 27,
     "metadata": {},
     "output_type": "execute_result"
    },
    {
     "data": {
      "image/png": "[encoded data removed]",
      "text/plain": [
       "<Figure size 432x288 with 1 Axes>"
      ]
     },
     "metadata": {
      "needs_background": "light"
     },
     "output_type": "display_data"
    }
   ],
   "source": [
    "import matplotlib.pyplot as plt\n",
    "#DO train here, and learn your classification parameters\n",
    "print(\"learning...\")\n",
    "print(X_train.shape)\n",
    "scores = []\n",
    "scores2 = []\n",
    "x_axis = [1,2,3,4,5,6]\n",
    "for n in x_axis:\n",
    "    clf = RandomForestClassifier(n_estimators = 25, max_depth = n, random_state=4)\n",
    "    clf.fit(X_train,t_train)\n",
    "    sc = clf.score(X_test, t_test)\n",
    "    scores.append(sc)\n",
    "    scores2.append(clf.score(X_train, t_train))\n",
    "    print \"done with n_classifiers = %i, score = %f\" % (n, sc)\n",
    "\n",
    "plt.plot(x_axis, scores, x_axis, scores2, '-')\n",
    "plt.title('Random Forest by Max Depth')\n",
    "plt.xlabel('Max Depth')\n",
    "plt.ylabel('Score')\n",
    "plt.legend(['Test', 'Train'])"
   ]
  },
  {
   "cell_type": "code",
   "execution_count": 36,
   "metadata": {},
   "outputs": [
    {
     "data": {
      "text/plain": [
       "<matplotlib.legend.Legend at 0x1a21e23410>"
      ]
     },
     "execution_count": 36,
     "metadata": {},
     "output_type": "execute_result"
    },
    {
     "data": {
      "image/png": "[encoded data removed]",
      "text/plain": [
       "<Figure size 432x288 with 1 Axes>"
      ]
     },
     "metadata": {
      "needs_background": "light"
     },
     "output_type": "display_data"
    }
   ],
   "source": [
    "#DO train here, and learn your classification parameters\n",
    "# print(\"learning...\")\n",
    "# print(X_train.shape)\n",
    "# scores = []\n",
    "# scores2 = []\n",
    "# x_axis = [10,50,100,150,200,500]\n",
    "# for n in x_axis:\n",
    "#     clf = MLPClassifier(hidden_layer_sizes=(n, n), max_iter=20, random_state=2)\n",
    "#     clf.fit(X_train,t_train)\n",
    "#     sc = clf.score(X_test, t_test)\n",
    "#     scores.append(sc)\n",
    "#     scores2.append(clf.score(X_train, t_train))\n",
    "#     print \"done with hidden nodes = %i, score = %f\" % (n, sc)\n",
    "\n",
    "plt.plot(x_axis, scores, x_axis, scores2, '-')\n",
    "plt.title('2-Layer MLP by Nodes in Hidden Layer')\n",
    "plt.xlabel('Nodes')\n",
    "plt.ylabel('Score')\n",
    "plt.legend(['Test', 'Train'])"
   ]
  },
  {
   "cell_type": "code",
   "execution_count": null,
   "metadata": {},
   "outputs": [],
   "source": [
    "#DO train here, and learn your classification parameters\n",
    "# print(\"learning...\")\n",
    "# print(X_train.shape)\n",
    "scores = []\n",
    "scores2 = []\n",
    "x_axis = [0]\n",
    "for n in x_axis:\n",
    "    clf = LinearSVC(random_state=2)\n",
    "    clf.fit(X_train,t_train)\n",
    "    sc = clf.score(X_test, t_test)\n",
    "    scores.append(sc)\n",
    "    scores2.append(clf.score(X_train, t_train))\n",
    "    print \"done with hidden nodes = %i, score = %f\" % (n, sc)\n",
    "\n",
    "plt.plot(x_axis, scores, x_axis, scores2, '-')\n",
    "plt.title('2-Layer MLP by Nodes in Hidden Layer')\n",
    "plt.xlabel('Nodes')\n",
    "plt.ylabel('Score')\n",
    "plt.legend(['Test', 'Train'])"
   ]
  },
  {
   "cell_type": "code",
   "execution_count": 37,
   "metadata": {},
   "outputs": [
    {
     "data": {
      "text/plain": [
       "[0.7914507772020726,\n",
       " 0.8588082901554405,\n",
       " 0.866580310880829,\n",
       " 0.8626943005181347,\n",
       " 0.8743523316062176,\n",
       " 0.8860103626943006]"
      ]
     },
     "execution_count": 37,
     "metadata": {},
     "output_type": "execute_result"
    }
   ],
   "source": [
    "scores"
   ]
  },
  {
   "cell_type": "code",
   "execution_count": null,
   "metadata": {},
   "outputs": [],
   "source": [
    "#get rid of training data and load test data\n",
    "del X_train\n",
    "del t_train\n",
    "del train_ids\n",
    "print(\"extracting test features...\")\n",
    "X_test,_,t_ignore,test_ids = extract_feats(ffs, test_dir, global_feat_dict=global_feat_dict)\n",
    "print(\"done extracting test features\")\n",
    "print\n",
    "\n",
    "# TODO make predictions on text data and write them out\n",
    "print(\"making predictions...\")\n",
    "preds = clf.predict((X_test))\n",
    "print (\"done making predictions\")\n",
    "print\n",
    "\n",
    "print (\"writing predictions...\")\n",
    "util.write_predictions(preds, test_ids, outputfile)\n",
    "print (\"done!\")\n"
   ]
  },
  {
   "cell_type": "code",
   "execution_count": 20,
   "metadata": {},
   "outputs": [
    {
     "name": "stdout",
     "output_type": "stream",
     "text": [
      "learning...\n",
      "(2314, 13258)\n",
      "done with Gaussian\n",
      "0.361399, score = 0.361399\n",
      "done with SVM\n",
      "0.830311, score = 0.839378\n",
      "done with Logistic Reg.\n",
      "0.830311, score = 0.727979\n",
      "done with MLP\n",
      "0.830311, score = 0.884715\n",
      "done with Random Forests\n",
      "0.830311, score = 0.888601\n"
     ]
    },
    {
     "data": {
      "text/plain": [
       "Text(0,0.5,'Score')"
      ]
     },
     "execution_count": 20,
     "metadata": {},
     "output_type": "execute_result"
    },
    {
     "data": {
      "image/png": "[encoded data removed]",
      "text/plain": [
       "<Figure size 432x288 with 1 Axes>"
      ]
     },
     "metadata": {
      "needs_background": "light"
     },
     "output_type": "display_data"
    }
   ],
   "source": [
    "import matplotlib.pyplot as plt\n",
    "from sklearn.mixture import GaussianMixture\n",
    "#DO train here, and learn your classification parameters\n",
    "print(\"learning...\")\n",
    "print(X_train.shape)\n",
    "scores = []\n",
    "clfs = []\n",
    "clfs.append(GaussianNB([x / 100 for x in priors]))\n",
    "clfs.append(LinearSVC())\n",
    "clfs.append(LogisticRegression())\n",
    "clfs.append(MLPClassifier(hidden_layer_sizes = (80, 100), max_iter=5000, random_state = 1, alpha=0.05))\n",
    "clfs.append(RandomForestClassifier(n_estimators = 1000))\n",
    "index = 0\n",
    "for clf in clfs:\n",
    "    if index == 0:\n",
    "        clf.fit(X_train.toarray(), t_train)\n",
    "        sc = clf.score(X_test.toarray(), t_test)\n",
    "    else:\n",
    "        clf.fit(X_train,t_train)\n",
    "        sc = clf.score(X_test, t_test)\n",
    "    scores.append(sc)\n",
    "    print \"done with \" + x_axis[index] + \", score = %f\" % sc\n",
    "    index += 1\n",
    "x_axis = ['Gaussian\\n%f' % scores[0], 'SVM\\n%f' % scores[1], 'Logistic Reg.\\n%f' % scores[2], 'MLP\\n%f' % scores[3], 'Random Forests\\n%f' % scores[4]]\n",
    "x_cardinal = np.arange(len(x_axis))\n",
    "plt.bar(x_cardinal, scores)\n",
    "plt.xticks(x_cardinal, x_axis)\n",
    "plt.title('Peformance of Models')\n",
    "plt.ylabel('Score')"
   ]
  },
  {
   "cell_type": "code",
   "execution_count": 21,
   "metadata": {},
   "outputs": [
    {
     "name": "stdout",
     "output_type": "stream",
     "text": [
      "extracting training features...\n",
      "done extracting training features\n",
      "31\n",
      "learning...\n",
      "(2314, 31)\n",
      "done, score = 0.888601\n",
      "extracting training features...\n",
      "done extracting training features\n",
      "13227\n",
      "learning...\n",
      "(2314, 13227)\n",
      "done, score = 0.888601\n",
      "extracting training features...\n",
      "done extracting training features\n",
      "2184\n",
      "learning...\n",
      "(2314, 2184)\n",
      "done, score = 0.888601\n",
      "extracting training features...\n",
      "done extracting training features\n",
      "10905\n",
      "learning...\n",
      "(2314, 10905)\n",
      "done, score = 0.888601\n",
      "extracting training features...\n",
      "done extracting training features\n",
      "13096\n",
      "learning...\n",
      "(2314, 13096)\n",
      "done, score = 0.888601\n"
     ]
    },
    {
     "data": {
      "text/plain": [
       "Text(0,0.5,'Score')"
      ]
     },
     "execution_count": 21,
     "metadata": {},
     "output_type": "execute_result"
    },
    {
     "data": {
      "image/png": "[encoded data removed]",
      "text/plain": [
       "<Figure size 432x288 with 1 Axes>"
      ]
     },
     "metadata": {
      "needs_background": "light"
     },
     "output_type": "display_data"
    }
   ],
   "source": [
    "import matplotlib.pyplot as plt\n",
    "\n",
    "ffss = [[first_last_system_call_feats, system_call_count_feats],\n",
    "        [system_call_termination_reason, system_call_count_feat_types, system_call_processes, system_call_unsuccessful, system_call_bigrams, system_call_trigrams],\n",
    "        [system_call_bigrams],\n",
    "        [system_call_trigrams],\n",
    "        [system_call_termination_reason, system_call_bigrams, system_call_trigrams]]\n",
    "\n",
    "scores = []\n",
    "for ffs in ffss:\n",
    "    print(\"extracting training features...\")\n",
    "    X_train,global_feat_dict,t_train,train_ids = extract_feats(ffs, train_dir)\n",
    "    print(\"done extracting training features\")\n",
    "    X_train, X_test, t_train, t_test = train_test_split(X_train, t_train, random_state = 1)\n",
    "    print(len(global_feat_dict))\n",
    "\n",
    "    print(\"learning...\")\n",
    "    print(X_train.shape)\n",
    "    clf = RandomForestClassifier(n_estimators = 1000)\n",
    "    clf.fit(X_train,t_train)\n",
    "    scores.append(clf.score(X_test, t_test))\n",
    "    print \"done, score = %f\" % sc"
   ]
  },
  {
   "cell_type": "code",
   "execution_count": 22,
   "metadata": {},
   "outputs": [
    {
     "data": {
      "text/plain": [
       "Text(0,0.5,'Score')"
      ]
     },
     "execution_count": 22,
     "metadata": {},
     "output_type": "execute_result"
    },
    {
     "data": {
      "image/png": "[encoded data removed]",
      "text/plain": [
       "<Figure size 432x288 with 1 Axes>"
      ]
     },
     "metadata": {
      "needs_background": "light"
     },
     "output_type": "display_data"
    }
   ],
   "source": [
    "x_axis = ['FS 1\\n%f' % scores[0], 'FS 2\\n%f' % scores[1], 'FS 3\\n%f' % scores[2], 'FS 4\\n%f' % scores[3], 'FS 5\\n%f' % scores[4]]\n",
    "x_cardinal = np.arange(len(x_axis))\n",
    "plt.bar(x_cardinal, scores)\n",
    "plt.xticks(x_cardinal, x_axis)\n",
    "plt.title('Peformance of Feature Set')\n",
    "plt.ylabel('Score')"
   ]
  },
  {
   "cell_type": "code",
   "execution_count": null,
   "metadata": {},
   "outputs": [],
   "source": []
  }
 ],
 "metadata": {
  "kernelspec": {
   "display_name": "Python 2",
   "language": "python",
   "name": "python2"
  },
  "language_info": {
   "codemirror_mode": {
    "name": "ipython",
    "version": 2
   },
   "file_extension": ".py",
   "mimetype": "text/x-python",
   "name": "python",
   "nbconvert_exporter": "python",
   "pygments_lexer": "ipython2",
   "version": "2.7.15"
  }
 },
 "nbformat": 4,
 "nbformat_minor": 2
}
